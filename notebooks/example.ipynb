{
 "cells": [
  {
   "cell_type": "markdown",
   "metadata": {
    "toc": true
   },
   "source": [
    "<h1>Table of Contents<span class=\"tocSkip\"></span></h1>\n",
    "<div class=\"toc\"><ul class=\"toc-item\"><li><span><a href=\"#Project-overview\" data-toc-modified-id=\"Project-overview-1\"><span class=\"toc-item-num\">1&nbsp;&nbsp;</span>Project overview</a></span></li><li><span><a href=\"#Reading-data-scrapped-in-previous-notebook\" data-toc-modified-id=\"Reading-data-scrapped-in-previous-notebook-2\"><span class=\"toc-item-num\">2&nbsp;&nbsp;</span>Reading data scrapped in previous notebook</a></span><ul class=\"toc-item\"><li><span><a href=\"#Removing-odd-cases-of-properties-outside-of-Warsaw-and-without-a-price\" data-toc-modified-id=\"Removing-odd-cases-of-properties-outside-of-Warsaw-and-without-a-price-2.1\"><span class=\"toc-item-num\">2.1&nbsp;&nbsp;</span>Removing odd cases of properties outside of Warsaw and without a price</a></span></li></ul></li><li><span><a href=\"#Basic-data-visualization\" data-toc-modified-id=\"Basic-data-visualization-3\"><span class=\"toc-item-num\">3&nbsp;&nbsp;</span>Basic data visualization</a></span><ul class=\"toc-item\"><li><span><a href=\"#Visualizing-unit-price-(PLN/m2)-for-each-offer-as-scatter-plot\" data-toc-modified-id=\"Visualizing-unit-price-(PLN/m2)-for-each-offer-as-scatter-plot-3.1\"><span class=\"toc-item-num\">3.1&nbsp;&nbsp;</span>Visualizing unit price (PLN/m2) for each offer as scatter plot</a></span></li><li><span><a href=\"#Grouping-offers-to-create-a-grid\" data-toc-modified-id=\"Grouping-offers-to-create-a-grid-3.2\"><span class=\"toc-item-num\">3.2&nbsp;&nbsp;</span>Grouping offers to create a grid</a></span></li></ul></li><li><span><a href=\"#Choroplet-maps\" data-toc-modified-id=\"Choroplet-maps-4\"><span class=\"toc-item-num\">4&nbsp;&nbsp;</span>Choroplet maps</a></span><ul class=\"toc-item\"><li><span><a href=\"#Initial-approach-to-grid-based-choropleth-map\" data-toc-modified-id=\"Initial-approach-to-grid-based-choropleth-map-4.1\"><span class=\"toc-item-num\">4.1&nbsp;&nbsp;</span>Initial approach to grid based choropleth map</a></span></li><li><span><a href=\"#Countour-plot-with-geojson\" data-toc-modified-id=\"Countour-plot-with-geojson-4.2\"><span class=\"toc-item-num\">4.2&nbsp;&nbsp;</span>Countour plot with geojson</a></span></li><li><span><a href=\"#Could-we-make-contour-plot-look-better-with-interpolation-of-point?\" data-toc-modified-id=\"Could-we-make-contour-plot-look-better-with-interpolation-of-point?-4.3\"><span class=\"toc-item-num\">4.3&nbsp;&nbsp;</span>Could we make contour plot look better with interpolation of point?</a></span><ul class=\"toc-item\"><li><span><a href=\"#Does-underground-proximity-seem-to-be-visible-on-the-price-map?\" data-toc-modified-id=\"Does-underground-proximity-seem-to-be-visible-on-the-price-map?-4.3.1\"><span class=\"toc-item-num\">4.3.1&nbsp;&nbsp;</span>Does underground proximity seem to be visible on the price map?</a></span></li></ul></li></ul></li><li><span><a href=\"#Scraping-geo-data-using-Google-Api\" data-toc-modified-id=\"Scraping-geo-data-using-Google-Api-5\"><span class=\"toc-item-num\">5&nbsp;&nbsp;</span>Scraping geo data using Google Api</a></span><ul class=\"toc-item\"><li><span><a href=\"#How-long-would-it-take-to-commute-from-each-tile-to-central-point-of-Warsaw\" data-toc-modified-id=\"How-long-would-it-take-to-commute-from-each-tile-to-central-point-of-Warsaw-5.1\"><span class=\"toc-item-num\">5.1&nbsp;&nbsp;</span>How long would it take to commute from each tile to central point of Warsaw</a></span></li><li><span><a href=\"#Mapping-commute-time\" data-toc-modified-id=\"Mapping-commute-time-5.2\"><span class=\"toc-item-num\">5.2&nbsp;&nbsp;</span>Mapping commute time</a></span></li><li><span><a href=\"#Looking-for-best-balance-between-price-and-commute-time\" data-toc-modified-id=\"Looking-for-best-balance-between-price-and-commute-time-5.3\"><span class=\"toc-item-num\">5.3&nbsp;&nbsp;</span>Looking for best balance between price and commute time</a></span></li></ul></li><li><span><a href=\"#Preparing-data-for-models-in-Part-3\" data-toc-modified-id=\"Preparing-data-for-models-in-Part-3-6\"><span class=\"toc-item-num\">6&nbsp;&nbsp;</span>Preparing data for models in Part 3</a></span></li></ul></div>"
   ]
  },
  {
   "cell_type": "code",
   "execution_count": 8,
   "metadata": {},
   "outputs": [
    {
     "name": "stdout",
     "output_type": "stream",
     "text": [
      "Collecting plotly\n",
      "  Downloading plotly-4.13.0-py2.py3-none-any.whl (13.1 MB)\n",
      "\u001b[K     |████████████████████████████████| 13.1 MB 246 kB/s eta 0:00:01    |█▌                              | 604 kB 310 kB/s eta 0:00:41     |██▌                             | 1.0 MB 367 kB/s eta 0:00:33     |██████▎                         | 2.6 MB 422 kB/s eta 0:00:25     |████████                        | 3.2 MB 680 kB/s eta 0:00:15     |███████████▍                    | 4.7 MB 628 kB/s eta 0:00:14     |███████████████▊                | 6.5 MB 604 kB/s eta 0:00:11     |███████████████████▌            | 8.0 MB 1.2 MB/s eta 0:00:05     |██████████████████████████▌     | 10.8 MB 95 kB/s eta 0:00:24\n",
      "\u001b[?25hRequirement already satisfied: six in /opt/conda/lib/python3.8/site-packages (from plotly) (1.15.0)\n",
      "Collecting retrying>=1.3.3\n",
      "  Downloading retrying-1.3.3.tar.gz (10 kB)\n",
      "Building wheels for collected packages: retrying\n",
      "  Building wheel for retrying (setup.py) ... \u001b[?25ldone\n",
      "\u001b[?25h  Created wheel for retrying: filename=retrying-1.3.3-py3-none-any.whl size=11429 sha256=3fdf4176b120cdd6211304acd9b4f1a873826aa1628c19c96778802f46383e09\n",
      "  Stored in directory: /home/jovyan/.cache/pip/wheels/c4/a7/48/0a434133f6d56e878ca511c0e6c38326907c0792f67b476e56\n",
      "Successfully built retrying\n",
      "Installing collected packages: retrying, plotly\n",
      "Successfully installed plotly-4.13.0 retrying-1.3.3\n"
     ]
    }
   ],
   "source": [
    "! pip install plotly"
   ]
  },
  {
   "cell_type": "code",
   "execution_count": 9,
   "metadata": {},
   "outputs": [],
   "source": [
    "import os\n",
    "from urllib.request import urlretrieve\n",
    "from urllib.request import urlopen\n",
    "from bs4 import BeautifulSoup\n",
    "import pandas as pd\n",
    "import plotly\n",
    "import numpy as np\n",
    "import re\n",
    "import json\n",
    "import numpy as np\n",
    "import timeit \n",
    "from datetime import datetime\n",
    "\n",
    "from scipy.interpolate import griddata\n",
    "from numpy import linspace"
   ]
  },
  {
   "cell_type": "code",
   "execution_count": 10,
   "metadata": {},
   "outputs": [
    {
     "name": "stderr",
     "output_type": "stream",
     "text": [
      "/opt/conda/lib/python3.8/site-packages/geopandas/_compat.py:84: UserWarning: The Shapely GEOS version (3.8.0-CAPI-1.13.1 ) is incompatible with the GEOS version PyGEOS was compiled with (3.8.1-CAPI-1.13.3). Conversions between both will be slow.\n",
      "  warnings.warn(\n"
     ]
    },
    {
     "ename": "ModuleNotFoundError",
     "evalue": "No module named 'geojsoncontour'",
     "output_type": "error",
     "traceback": [
      "\u001b[0;31m---------------------------------------------------------------------------\u001b[0m",
      "\u001b[0;31mModuleNotFoundError\u001b[0m                       Traceback (most recent call last)",
      "\u001b[0;32m<ipython-input-10-5b12abd1e353>\u001b[0m in \u001b[0;36m<module>\u001b[0;34m\u001b[0m\n\u001b[1;32m      3\u001b[0m \u001b[0;32mimport\u001b[0m \u001b[0mgeopandas\u001b[0m \u001b[0;32mas\u001b[0m \u001b[0mgpd\u001b[0m\u001b[0;34m\u001b[0m\u001b[0;34m\u001b[0m\u001b[0m\n\u001b[1;32m      4\u001b[0m \u001b[0;32mimport\u001b[0m \u001b[0mmatplotlib\u001b[0m\u001b[0;34m.\u001b[0m\u001b[0mpyplot\u001b[0m \u001b[0;32mas\u001b[0m \u001b[0mplt\u001b[0m\u001b[0;34m\u001b[0m\u001b[0;34m\u001b[0m\u001b[0m\n\u001b[0;32m----> 5\u001b[0;31m \u001b[0;32mimport\u001b[0m \u001b[0mgeojsoncontour\u001b[0m\u001b[0;34m\u001b[0m\u001b[0;34m\u001b[0m\u001b[0m\n\u001b[0m",
      "\u001b[0;31mModuleNotFoundError\u001b[0m: No module named 'geojsoncontour'"
     ]
    }
   ],
   "source": [
    "import plotly.express as px\n",
    "from shapely.geometry import Polygon, MultiPolygon\n",
    "import geopandas as gpd\n",
    "import matplotlib.pyplot as plt\n",
    "import geojsoncontour"
   ]
  },
  {
   "cell_type": "code",
   "execution_count": 11,
   "metadata": {},
   "outputs": [
    {
     "ename": "ModuleNotFoundError",
     "evalue": "No module named 'cufflinks'",
     "output_type": "error",
     "traceback": [
      "\u001b[0;31m---------------------------------------------------------------------------\u001b[0m",
      "\u001b[0;31mModuleNotFoundError\u001b[0m                       Traceback (most recent call last)",
      "\u001b[0;32m<ipython-input-11-3b11d1d4f4e6>\u001b[0m in \u001b[0;36m<module>\u001b[0;34m\u001b[0m\n\u001b[1;32m      1\u001b[0m \u001b[0;31m# Cufflinks wrapper on plotly\u001b[0m\u001b[0;34m\u001b[0m\u001b[0;34m\u001b[0m\u001b[0;34m\u001b[0m\u001b[0m\n\u001b[0;32m----> 2\u001b[0;31m \u001b[0;32mimport\u001b[0m \u001b[0mcufflinks\u001b[0m\u001b[0;34m\u001b[0m\u001b[0;34m\u001b[0m\u001b[0m\n\u001b[0m\u001b[1;32m      3\u001b[0m \u001b[0;32mfrom\u001b[0m \u001b[0mIPython\u001b[0m\u001b[0;34m.\u001b[0m\u001b[0mcore\u001b[0m\u001b[0;34m.\u001b[0m\u001b[0minteractiveshell\u001b[0m \u001b[0;32mimport\u001b[0m \u001b[0mInteractiveShell\u001b[0m\u001b[0;34m\u001b[0m\u001b[0;34m\u001b[0m\u001b[0m\n\u001b[1;32m      4\u001b[0m \u001b[0mInteractiveShell\u001b[0m\u001b[0;34m.\u001b[0m\u001b[0mast_node_interactivity\u001b[0m \u001b[0;34m=\u001b[0m \u001b[0;34m'all'\u001b[0m\u001b[0;34m\u001b[0m\u001b[0;34m\u001b[0m\u001b[0m\n\u001b[1;32m      5\u001b[0m \u001b[0;34m\u001b[0m\u001b[0m\n",
      "\u001b[0;31mModuleNotFoundError\u001b[0m: No module named 'cufflinks'"
     ]
    }
   ],
   "source": [
    "# Cufflinks wrapper on plotly\n",
    "import cufflinks\n",
    "from IPython.core.interactiveshell import InteractiveShell\n",
    "InteractiveShell.ast_node_interactivity = 'all'\n",
    "\n",
    "from plotly.offline import iplot\n",
    "cufflinks.go_offline()\n",
    "\n",
    "# Set global theme\n",
    "\n",
    "import plotly.figure_factory as ff\n",
    "\n",
    "import plotly.graph_objects as go"
   ]
  },
  {
   "cell_type": "code",
   "execution_count": null,
   "metadata": {},
   "outputs": [],
   "source": [
    "#Selecting a central city point to center all graphs around - Swietokrzyska Subway \n",
    "center_coors=52.235176, 21.008393"
   ]
  },
  {
   "cell_type": "markdown",
   "metadata": {},
   "source": [
    "# Project overview"
   ]
  },
  {
   "cell_type": "markdown",
   "metadata": {},
   "source": [
    "In the second part of Warsaw Real Estate prices project we will focus on visualization using geofeatures. We will also enrich pricing data with commute times extracted from google maps. The data analyzed in this notebook will be used to create algorithm allowing to benchmark property prices in part 3 of this project.\n",
    "\n",
    "The biggest challenge faced in this part of the exercise, was the difficulty of customizing map vizualizations. Scatter plots on a map or choroleth map based on administrative boundaries, which often do not have much in common with actual price clustering areas.\n",
    "\n",
    "I aimed to create countour heatmaps, which would allow us to easily locate the custom price and commute time areas based on our data. After some investigation I found that combining interpolation between points with filled countour plot, which was later converted to custom geojson, allowed to created beautiful and easy to read maps, which allow us to look at Warsaw Real Estate Prices in a completely new view."
   ]
  },
  {
   "cell_type": "markdown",
   "metadata": {},
   "source": [
    "# Reading data scrapped in previous notebook"
   ]
  },
  {
   "cell_type": "code",
   "execution_count": null,
   "metadata": {},
   "outputs": [],
   "source": [
    "df = pd.read_excel(r\"https://raw.githubusercontent.com/Jan-Majewski/Project_Portfolio/master/03_Real_Estate_pricing_in_Warsaw/Warsaw_RE_data.xlsx\")"
   ]
  },
  {
   "cell_type": "code",
   "execution_count": null,
   "metadata": {},
   "outputs": [],
   "source": [
    "df.columns"
   ]
  },
  {
   "cell_type": "code",
   "execution_count": null,
   "metadata": {},
   "outputs": [],
   "source": [
    "key_columns=['Id', 'Area', 'Price', 'latitude', 'longitude',\n",
    "       'City',\n",
    "       'district']"
   ]
  },
  {
   "cell_type": "code",
   "execution_count": null,
   "metadata": {},
   "outputs": [],
   "source": [
    "df=df[key_columns]"
   ]
  },
  {
   "cell_type": "code",
   "execution_count": null,
   "metadata": {},
   "outputs": [],
   "source": [
    "df.shape"
   ]
  },
  {
   "cell_type": "markdown",
   "metadata": {},
   "source": [
    "## Removing odd cases of properties outside of Warsaw and without a price"
   ]
  },
  {
   "cell_type": "code",
   "execution_count": null,
   "metadata": {},
   "outputs": [],
   "source": [
    "df=df.query(\"City=='warszawa'\")\n",
    "df=df.query(\"latitude>52 and latitude<53\")\n",
    "df=df.query(\"longitude>20 and longitude<21.2\")\n",
    "df=df.query(\"Price>0\")"
   ]
  },
  {
   "cell_type": "code",
   "execution_count": null,
   "metadata": {},
   "outputs": [],
   "source": [
    "df.shape"
   ]
  },
  {
   "cell_type": "code",
   "execution_count": null,
   "metadata": {},
   "outputs": [],
   "source": [
    "df.groupby(\"district\", as_index=False).count()[[\"district\",\"Id\"]].sort_values(by=\"Id\",ascending=False).head(10)"
   ]
  },
  {
   "cell_type": "markdown",
   "metadata": {},
   "source": [
    "\n",
    "The key variable visualized in this part, which will become our y in part 3 is the unit_price of PLN/m2, which allows us to compare properties of different sizes."
   ]
  },
  {
   "cell_type": "code",
   "execution_count": null,
   "metadata": {},
   "outputs": [],
   "source": [
    "df[\"unit_price\"]=df.Price/df.Area\n",
    "df[\"unit_price\"]=df.unit_price.apply(lambda x:int(x))"
   ]
  },
  {
   "cell_type": "code",
   "execution_count": null,
   "metadata": {},
   "outputs": [],
   "source": [
    "df[[\"unit_price\",\"Area\",\"Price\"]].describe()"
   ]
  },
  {
   "cell_type": "markdown",
   "metadata": {},
   "source": [
    "There seem to be odd cases of price less than 4k/m2 - let's see what happening. "
   ]
  },
  {
   "cell_type": "code",
   "execution_count": null,
   "metadata": {},
   "outputs": [],
   "source": [
    "df.query(\"unit_price<4000\")[[\"unit_price\",\"Area\",\"Price\"]]"
   ]
  },
  {
   "cell_type": "markdown",
   "metadata": {},
   "source": [
    "While the high ranges of 3k/m2 seem to be valid data points for large properties - probably houses in the subburbs with lower unit price, anything below 3k/m2 seems as invalid entries. Let's exclude any data point below that boundary. "
   ]
  },
  {
   "cell_type": "code",
   "execution_count": null,
   "metadata": {},
   "outputs": [],
   "source": [
    "df=df.query(\"unit_price>3000\")"
   ]
  },
  {
   "cell_type": "code",
   "execution_count": null,
   "metadata": {},
   "outputs": [],
   "source": [
    "df.head(10)"
   ]
  },
  {
   "cell_type": "code",
   "execution_count": null,
   "metadata": {},
   "outputs": [],
   "source": [
    "df.shape"
   ]
  },
  {
   "cell_type": "markdown",
   "metadata": {},
   "source": [
    "# Basic data visualization"
   ]
  },
  {
   "cell_type": "markdown",
   "metadata": {},
   "source": [
    "## Visualizing unit price (PLN/m2) for each offer as scatter plot"
   ]
  },
  {
   "cell_type": "code",
   "execution_count": null,
   "metadata": {},
   "outputs": [],
   "source": [
    "\n",
    "trace0=go.Scattermapbox(\n",
    "            lat=df.latitude,\n",
    "            lon=df.longitude,\n",
    "          \n",
    "            mode='markers',\n",
    "            marker=dict(\n",
    "                opacity=0.5, \n",
    "                size=10, \n",
    "                color=df.unit_price,\n",
    "               \n",
    "                colorscale=\"jet\",\n",
    "                cauto=False,\n",
    "                cmax=20000,\n",
    "                showscale=True),\n",
    "                text=df.unit_price,\n",
    "            \n",
    "           \n",
    "            )\n",
    "\n",
    "\n",
    "\n",
    "data=[trace0]\n",
    "\n",
    "layout = go.Layout(\n",
    "    title=\"Offer price density [PLN/m2]\",  \n",
    "    title_x=0.4,\n",
    "   \n",
    "    \n",
    "    \n",
    "    height = 800,\n",
    "    # top, bottom, left and right margins\n",
    "    margin = dict(t = 80, b = 0, l = 0, r = 0),\n",
    "    font = dict(color = 'dark grey', size = 18),\n",
    " \n",
    "    mapbox = dict(\n",
    "       \n",
    "\n",
    "        center = dict(\n",
    "            lat = center_coors[0],\n",
    "            lon = center_coors[1]\n",
    "        ),\n",
    "        # default level of zoom\n",
    "        zoom = 10,\n",
    "        # default map style\n",
    "        style = \"carto-positron\"\n",
    "    )\n",
    "\n",
    ")\n",
    "\n",
    "figure=go.Figure(\n",
    "    data=data,\n",
    "    layout=layout,\n",
    "  \n",
    "    )\n",
    "\n",
    "\n",
    "\n",
    "iplot(figure)\n"
   ]
  },
  {
   "cell_type": "markdown",
   "metadata": {},
   "source": [
    "Classic scattermapbox with over 10k points might look effective at first glance, but it is actually quite hard to read and nearly impossible to gain any more insights than - prices are high in the city centre."
   ]
  },
  {
   "cell_type": "markdown",
   "metadata": {},
   "source": [
    "## Grouping offers to create a grid"
   ]
  },
  {
   "cell_type": "markdown",
   "metadata": {},
   "source": [
    "Rounding Lat and Lon allows us to create a grid with step size equivalent to chosen rounding num. A coefficient dividing rounding num by 2 for latitude is recommended for geography of Europe, as it makes the grid tiles similar to squares. Without this correction, the grid consists of rectangles with longitude side nearly 2 times longer"
   ]
  },
  {
   "cell_type": "code",
   "execution_count": null,
   "metadata": {},
   "outputs": [],
   "source": [
    "#rounding coordinates by chosen precision creates a grid\n",
    "rounding_num=0.015 \n",
    "df[\"lon_mod\"]=np.round(df.longitude/rounding_num,0)*rounding_num\n",
    "\n",
    "#adjusting for difference in actual distance between same numeric change in lat and lon to create a square grid\n",
    "correction_coeff=0.5\n",
    "df[\"lat_mod\"]=np.round(df.latitude/(rounding_num*correction_coeff),0)*(rounding_num*correction_coeff)\n"
   ]
  },
  {
   "cell_type": "code",
   "execution_count": null,
   "metadata": {},
   "outputs": [],
   "source": [
    "df[\"lon_mod\"]=np.round(df[\"lon_mod\"],4)\n",
    "df[\"lat_mod\"]=np.round(df[\"lat_mod\"],4)"
   ]
  },
  {
   "cell_type": "code",
   "execution_count": null,
   "metadata": {},
   "outputs": [],
   "source": [
    "# Creating grid dataframe with average unit prices for each tile. Excluding tiles with sample below 3 as insufficient samples. \n",
    "df_map=df[[\"lat_mod\",\"lon_mod\",\"unit_price\"]].groupby([\"lat_mod\",\"lon_mod\"], as_index=False).mean()\n",
    "df_map[\"sample_size\"]=df[[\"lat_mod\",\"lon_mod\",\"Id\"]].groupby([\"lat_mod\",\"lon_mod\"], as_index=False).count().Id\n",
    "df_map[\"district\"]=df[[\"lat_mod\",\"lon_mod\",\"district\"]].groupby([\"lat_mod\",\"lon_mod\"], as_index=False).first().district\n",
    "df_map[\"district\"]=np.where(df_map.district.isna(),\"Other\",df_map.district)\n",
    "df_map=df_map.query(\"sample_size>3\")\n",
    "df_map.reset_index(inplace=True)\n",
    "df_map[\"geo_Id\"]=df_map.index"
   ]
  },
  {
   "cell_type": "code",
   "execution_count": null,
   "metadata": {},
   "outputs": [],
   "source": [
    "df_map.shape"
   ]
  },
  {
   "cell_type": "code",
   "execution_count": null,
   "metadata": {},
   "outputs": [],
   "source": [
    "data=[]\n",
    "trace0=dict(\n",
    "            lat=df_map.lat_mod,\n",
    "            lon=df_map.lon_mod,\n",
    "          \n",
    "            type=\"scattermapbox\",\n",
    "            mode='markers',\n",
    "            marker=dict(\n",
    "\n",
    "                size=18, \n",
    "                color=df_map.unit_price,\n",
    "                opacity=0.6,\n",
    "                colorscale=\"jet\",\n",
    "                cauto=False,\n",
    "                cmax=20000,\n",
    "                showscale=True),\n",
    "                text=df_map.unit_price,\n",
    "            \n",
    "           \n",
    "            )\n",
    "\n",
    "\n",
    "\n",
    "data=[trace0]\n",
    "\n",
    "layout = go.Layout(\n",
    "    title=\"Grid average price density [PLN/m2]\",  \n",
    "    title_x=0.4,\n",
    "   \n",
    "    \n",
    "    \n",
    "    height = 800,\n",
    "    # top, bottom, left and right margins\n",
    "    margin = dict(t = 80, b = 0, l = 0, r = 0),\n",
    "    font = dict(color = 'dark grey', size = 18),\n",
    " \n",
    "    mapbox = dict(\n",
    "       \n",
    "\n",
    "        center = dict(\n",
    "            lat = center_coors[0],\n",
    "            lon = center_coors[1]\n",
    "        ),\n",
    "        # default level of zoom\n",
    "        zoom = 10,\n",
    "        # default map style\n",
    "        style = \"carto-positron\"\n",
    "    )\n",
    "\n",
    ")\n",
    "\n",
    "figure=dict(\n",
    "    data=data,\n",
    "    layout=layout\n",
    "    )\n",
    "iplot(figure)"
   ]
  },
  {
   "cell_type": "markdown",
   "metadata": {},
   "source": [
    "# Choroplet maps"
   ]
  },
  {
   "cell_type": "markdown",
   "metadata": {},
   "source": [
    "Scatter plots work well with maps, but they tend to be too crowded, on the other hand, the other surface plots are easier to read, but cannot be combined with a map using plotly. A choropleth map with custom created geojson object will probably be the best solution. "
   ]
  },
  {
   "cell_type": "markdown",
   "metadata": {},
   "source": [
    "## Initial approach to grid based choropleth map"
   ]
  },
  {
   "cell_type": "markdown",
   "metadata": {},
   "source": [
    "\n",
    "To start working with choropleth maps, let's try to create our custom geojson, which will form a grid."
   ]
  },
  {
   "cell_type": "code",
   "execution_count": null,
   "metadata": {},
   "outputs": [],
   "source": [
    "df_map.head()"
   ]
  },
  {
   "cell_type": "code",
   "execution_count": null,
   "metadata": {},
   "outputs": [],
   "source": [
    "geo_list=[]\n",
    "\n",
    "for i in range(0,df_map.shape[0]):\n",
    "    point=df_map.iloc[i,:]\n",
    "    geo_json={}\n",
    "    geo_json[\"type\"]=\"Feature\"\n",
    "    \n",
    "    geo_json[\"properties\"]={\"District\":point.district}\n",
    "    \n",
    "    geo_json[\"geometry\"]={\n",
    "        \"type\":\"Polygon\",\n",
    "        \"coordinates\":[[[point.lon_mod+rounding_num/2,point.lat_mod+rounding_num*correction_coeff/2],\n",
    "                        [point.lon_mod-rounding_num/2,point.lat_mod+rounding_num*correction_coeff/2],\n",
    "                        [point.lon_mod-rounding_num/2,point.lat_mod-rounding_num*correction_coeff/2],\n",
    "                        [point.lon_mod+rounding_num/2,point.lat_mod-rounding_num*correction_coeff/2]]]}\n",
    "        \n",
    "    geo_json[\"id\"]=i\n",
    "    \n",
    "    geo_list.append(geo_json)\n"
   ]
  },
  {
   "cell_type": "code",
   "execution_count": null,
   "metadata": {},
   "outputs": [],
   "source": [
    "grid_geojson={\"type\":\"FeatureCollection\",\"features\":geo_list}"
   ]
  },
  {
   "cell_type": "code",
   "execution_count": null,
   "metadata": {},
   "outputs": [],
   "source": [
    "\n",
    "trace = go.Choroplethmapbox(\n",
    "                            geojson=grid_geojson,\n",
    "                            locations=df_map.geo_Id,\n",
    "                            z=df_map.unit_price,\n",
    "                            colorscale=\"jet\", \n",
    "                            text=df_map.sample_size,\n",
    "\n",
    " \n",
    "                            marker_line_width=0,\n",
    "\n",
    "                            marker=dict(opacity=0.5),\n",
    "\n",
    "                           )\n",
    "layout = go.Layout(\n",
    "    title=\"Grid average unit price [PLN/m2] - choropleth grid\",  \n",
    "    title_x=0.4,\n",
    "   \n",
    "    \n",
    "    \n",
    "    height = 800,\n",
    "    # top, bottom, left and right margins\n",
    "    margin = dict(t = 80, b = 0, l = 0, r = 0),\n",
    "    font = dict(color = 'dark grey', size = 18),\n",
    " \n",
    "    mapbox = dict(\n",
    "       \n",
    "\n",
    "        center = dict(\n",
    "            lat = center_coors[0],\n",
    "            lon = center_coors[1]\n",
    "        ),\n",
    "        # default level of zoom\n",
    "        zoom = 10,\n",
    "        # default map style\n",
    "        style = \"carto-positron\"\n",
    "    )\n",
    "\n",
    ")\n",
    "\n",
    "figure=dict(\n",
    "    data=[trace],\n",
    "    layout=layout,\n",
    "  \n",
    "    )\n",
    "\n",
    "iplot(figure)"
   ]
  },
  {
   "cell_type": "markdown",
   "metadata": {},
   "source": [
    "Choropleth map based on grid looks much neater and is easy to read, but the continuous scale makes clustering more difficult. The data points also leave some blank spaces. Creating a heatmap with interpolation, could be an answer to this issue, allowing us to cover the whole area of Warsaw."
   ]
  },
  {
   "cell_type": "markdown",
   "metadata": {},
   "source": [
    "## Countour plot with geojson"
   ]
  },
  {
   "cell_type": "markdown",
   "metadata": {},
   "source": [
    "Custom geojsons can be created to represent contour plots. Creating a countour plot will make it easier to distinct boundaries between price areas within Warsaw."
   ]
  },
  {
   "cell_type": "code",
   "execution_count": null,
   "metadata": {},
   "outputs": [],
   "source": [
    "df_piv=pd.pivot_table(df, values=\"unit_price\", index=df.lat_mod, columns=df.lon_mod, aggfunc=np.mean)\n",
    "z=df_piv.values\n",
    "y=df_piv.index\n",
    "x=df_piv.columns\n",
    "cs=plt.contourf(x,y,z,20,cmap=\"jet\")"
   ]
  },
  {
   "cell_type": "markdown",
   "metadata": {},
   "source": [
    "Basic contour plot looks ok, but it is missing a lot of areas due to missing data, parks or Vistula River. "
   ]
  },
  {
   "cell_type": "markdown",
   "metadata": {},
   "source": [
    "## Could we make contour plot look better with interpolation of point?"
   ]
  },
  {
   "cell_type": "markdown",
   "metadata": {},
   "source": [
    "Using around around 300 grid points with price averages we can interplote them into a 100 by 100 grid to represent price heatmap for whole area of Warsaw"
   ]
  },
  {
   "cell_type": "code",
   "execution_count": null,
   "metadata": {},
   "outputs": [],
   "source": [
    "df_map.shape"
   ]
  },
  {
   "cell_type": "code",
   "execution_count": null,
   "metadata": {},
   "outputs": [],
   "source": [
    "#Extrating x,y and values (z)\n",
    "z=df_map.unit_price\n",
    "y=df_map.lat_mod\n",
    "x=df_map.lon_mod"
   ]
  },
  {
   "cell_type": "code",
   "execution_count": null,
   "metadata": {},
   "outputs": [],
   "source": [
    "#Interpolating values to get better coverage\n",
    "xi = linspace(x.min(),x.max(),100);\n",
    "yi = linspace(y.min(),y.max(),100);\n",
    "zi = griddata((x, y), z, (xi[None,:], yi[:,None]), method='linear')"
   ]
  },
  {
   "cell_type": "code",
   "execution_count": null,
   "metadata": {},
   "outputs": [],
   "source": [
    "#Creating contour plot with a step size of 1000\n",
    "step_size=1000\n",
    "cs = plt.contourf(xi,yi,zi,range(5000,int( np.nanmax(zi))+step_size,step_size),cmap=plt.cm.jet)\n"
   ]
  },
  {
   "cell_type": "code",
   "execution_count": null,
   "metadata": {},
   "outputs": [],
   "source": [
    "#Converting matplotplib contour plot to geojson\n",
    "\n",
    "geojson = geojsoncontour.contourf_to_geojson(\n",
    "    contourf=cs,\n",
    "    ndigits=3,\n",
    "   \n",
    ")\n",
    "\n",
    "price_geojson=eval(geojson)"
   ]
  },
  {
   "cell_type": "code",
   "execution_count": null,
   "metadata": {},
   "outputs": [],
   "source": [
    "price_geojson.keys()"
   ]
  },
  {
   "cell_type": "code",
   "execution_count": null,
   "metadata": {},
   "outputs": [],
   "source": [
    "price_geojson[\"features\"][0][\"properties\"][\"title\"]"
   ]
  },
  {
   "cell_type": "code",
   "execution_count": null,
   "metadata": {},
   "outputs": [],
   "source": [
    "#Creating empty array to fill with prices\n",
    "arr_temp=np.ones([len(price_geojson[\"features\"]),2])\n",
    "\n",
    "for i in range(0, len(price_geojson[\"features\"])):\n",
    "    price_geojson[\"features\"][i][\"id\"]=i\n",
    "\n",
    "#Filling array with price and Id for each geojson spatial object. Z value from contour plot will be stored as title\n",
    "    arr_temp[i,0]=i\n",
    "    arr_temp[i,1]=float(price_geojson[\"features\"][i][\"properties\"][\"title\"])\n",
    "#Transforming array to df\n",
    "df_contour=pd.DataFrame(arr_temp, columns=[\"Id\",\"Price\"])"
   ]
  },
  {
   "cell_type": "code",
   "execution_count": null,
   "metadata": {},
   "outputs": [],
   "source": [
    "trace = go.Choroplethmapbox(\n",
    "                            geojson=price_geojson,\n",
    "                            locations=df_contour.Id,\n",
    "                            z=df_contour.Price,\n",
    "                            colorscale=\"jet\",  \n",
    "                            marker_line_width=0,\n",
    "\n",
    "                            marker=dict(opacity=0.5)\n",
    "                           )\n",
    "\n",
    "\n",
    "\n",
    "layout = go.Layout(\n",
    "    title=\"Warsaw Real Estate prices heatmap [PLN/m2]\",  \n",
    "    title_x=0.4,\n",
    "   \n",
    "    \n",
    "    \n",
    "    height = 800,\n",
    "    # top, bottom, left and right margins\n",
    "    margin = dict(t = 80, b = 0, l = 0, r = 0),\n",
    "    font = dict(color = 'dark grey', size = 18),\n",
    " \n",
    "    mapbox = dict(\n",
    "       \n",
    "\n",
    "        center = dict(\n",
    "            lat = center_coors[0],\n",
    "            lon = center_coors[1]\n",
    "        ),\n",
    "        # default level of zoom\n",
    "        zoom = 11,\n",
    "        # default map style\n",
    "        style = \"carto-positron\"\n",
    "    )\n",
    "\n",
    ")\n",
    "\n",
    "figure=dict(\n",
    "    data=[trace],\n",
    "    layout=layout,\n",
    "  \n",
    "    )\n",
    "\n",
    "iplot(figure)"
   ]
  },
  {
   "cell_type": "markdown",
   "metadata": {},
   "source": [
    "Now we can clearly see most expensive areas and the gradient of price decrease in all of Warsaw. This type of graph allows us to see the most expensive areas near city center and Eastern riverbank in contrast to much cheaper prices on the West riverbank.Contour plotted against map of Warsaw is much easier to read than the scatter plot withour loosing too much detail. "
   ]
  },
  {
   "cell_type": "markdown",
   "metadata": {},
   "source": [
    "### Does underground proximity seem to be visible on the price map?"
   ]
  },
  {
   "cell_type": "code",
   "execution_count": 6,
   "metadata": {},
   "outputs": [
    {
     "ename": "FileNotFoundError",
     "evalue": "[Errno 2] No such file or directory: 'underground_data.xlsx'",
     "output_type": "error",
     "traceback": [
      "\u001b[0;31m---------------------------------------------------------------------------\u001b[0m",
      "\u001b[0;31mFileNotFoundError\u001b[0m                         Traceback (most recent call last)",
      "\u001b[0;32m<ipython-input-6-1ff4d1b92cd5>\u001b[0m in \u001b[0;36m<module>\u001b[0;34m\u001b[0m\n\u001b[0;32m----> 1\u001b[0;31m \u001b[0mdf_ug\u001b[0m\u001b[0;34m=\u001b[0m\u001b[0mpd\u001b[0m\u001b[0;34m.\u001b[0m\u001b[0mread_excel\u001b[0m\u001b[0;34m(\u001b[0m\u001b[0;34m\"underground_data.xlsx\"\u001b[0m\u001b[0;34m)\u001b[0m\u001b[0;34m\u001b[0m\u001b[0;34m\u001b[0m\u001b[0m\n\u001b[0m\u001b[1;32m      2\u001b[0m \u001b[0mdf_ug_A\u001b[0m\u001b[0;34m=\u001b[0m\u001b[0mdf_ug\u001b[0m\u001b[0;34m.\u001b[0m\u001b[0mquery\u001b[0m\u001b[0;34m(\u001b[0m\u001b[0;34m\"Line=='A'\"\u001b[0m\u001b[0;34m)\u001b[0m\u001b[0;34m\u001b[0m\u001b[0;34m\u001b[0m\u001b[0m\n\u001b[1;32m      3\u001b[0m \u001b[0mdf_ug_C\u001b[0m\u001b[0;34m=\u001b[0m\u001b[0mdf_ug\u001b[0m\u001b[0;34m.\u001b[0m\u001b[0mquery\u001b[0m\u001b[0;34m(\u001b[0m\u001b[0;34m\"Line=='C'\"\u001b[0m\u001b[0;34m)\u001b[0m\u001b[0;34m\u001b[0m\u001b[0;34m\u001b[0m\u001b[0m\n",
      "\u001b[0;32m/opt/conda/lib/python3.8/site-packages/pandas/util/_decorators.py\u001b[0m in \u001b[0;36mwrapper\u001b[0;34m(*args, **kwargs)\u001b[0m\n\u001b[1;32m    294\u001b[0m                 )\n\u001b[1;32m    295\u001b[0m                 \u001b[0mwarnings\u001b[0m\u001b[0;34m.\u001b[0m\u001b[0mwarn\u001b[0m\u001b[0;34m(\u001b[0m\u001b[0mmsg\u001b[0m\u001b[0;34m,\u001b[0m \u001b[0mFutureWarning\u001b[0m\u001b[0;34m,\u001b[0m \u001b[0mstacklevel\u001b[0m\u001b[0;34m=\u001b[0m\u001b[0mstacklevel\u001b[0m\u001b[0;34m)\u001b[0m\u001b[0;34m\u001b[0m\u001b[0;34m\u001b[0m\u001b[0m\n\u001b[0;32m--> 296\u001b[0;31m             \u001b[0;32mreturn\u001b[0m \u001b[0mfunc\u001b[0m\u001b[0;34m(\u001b[0m\u001b[0;34m*\u001b[0m\u001b[0margs\u001b[0m\u001b[0;34m,\u001b[0m \u001b[0;34m**\u001b[0m\u001b[0mkwargs\u001b[0m\u001b[0;34m)\u001b[0m\u001b[0;34m\u001b[0m\u001b[0;34m\u001b[0m\u001b[0m\n\u001b[0m\u001b[1;32m    297\u001b[0m \u001b[0;34m\u001b[0m\u001b[0m\n\u001b[1;32m    298\u001b[0m         \u001b[0;32mreturn\u001b[0m \u001b[0mwrapper\u001b[0m\u001b[0;34m\u001b[0m\u001b[0;34m\u001b[0m\u001b[0m\n",
      "\u001b[0;32m/opt/conda/lib/python3.8/site-packages/pandas/io/excel/_base.py\u001b[0m in \u001b[0;36mread_excel\u001b[0;34m(io, sheet_name, header, names, index_col, usecols, squeeze, dtype, engine, converters, true_values, false_values, skiprows, nrows, na_values, keep_default_na, na_filter, verbose, parse_dates, date_parser, thousands, comment, skipfooter, convert_float, mangle_dupe_cols)\u001b[0m\n\u001b[1;32m    302\u001b[0m \u001b[0;34m\u001b[0m\u001b[0m\n\u001b[1;32m    303\u001b[0m     \u001b[0;32mif\u001b[0m \u001b[0;32mnot\u001b[0m \u001b[0misinstance\u001b[0m\u001b[0;34m(\u001b[0m\u001b[0mio\u001b[0m\u001b[0;34m,\u001b[0m \u001b[0mExcelFile\u001b[0m\u001b[0;34m)\u001b[0m\u001b[0;34m:\u001b[0m\u001b[0;34m\u001b[0m\u001b[0;34m\u001b[0m\u001b[0m\n\u001b[0;32m--> 304\u001b[0;31m         \u001b[0mio\u001b[0m \u001b[0;34m=\u001b[0m \u001b[0mExcelFile\u001b[0m\u001b[0;34m(\u001b[0m\u001b[0mio\u001b[0m\u001b[0;34m,\u001b[0m \u001b[0mengine\u001b[0m\u001b[0;34m=\u001b[0m\u001b[0mengine\u001b[0m\u001b[0;34m)\u001b[0m\u001b[0;34m\u001b[0m\u001b[0;34m\u001b[0m\u001b[0m\n\u001b[0m\u001b[1;32m    305\u001b[0m     \u001b[0;32melif\u001b[0m \u001b[0mengine\u001b[0m \u001b[0;32mand\u001b[0m \u001b[0mengine\u001b[0m \u001b[0;34m!=\u001b[0m \u001b[0mio\u001b[0m\u001b[0;34m.\u001b[0m\u001b[0mengine\u001b[0m\u001b[0;34m:\u001b[0m\u001b[0;34m\u001b[0m\u001b[0;34m\u001b[0m\u001b[0m\n\u001b[1;32m    306\u001b[0m         raise ValueError(\n",
      "\u001b[0;32m/opt/conda/lib/python3.8/site-packages/pandas/io/excel/_base.py\u001b[0m in \u001b[0;36m__init__\u001b[0;34m(self, path_or_buffer, engine)\u001b[0m\n\u001b[1;32m    865\u001b[0m         \u001b[0mself\u001b[0m\u001b[0;34m.\u001b[0m\u001b[0m_io\u001b[0m \u001b[0;34m=\u001b[0m \u001b[0mstringify_path\u001b[0m\u001b[0;34m(\u001b[0m\u001b[0mpath_or_buffer\u001b[0m\u001b[0;34m)\u001b[0m\u001b[0;34m\u001b[0m\u001b[0;34m\u001b[0m\u001b[0m\n\u001b[1;32m    866\u001b[0m \u001b[0;34m\u001b[0m\u001b[0m\n\u001b[0;32m--> 867\u001b[0;31m         \u001b[0mself\u001b[0m\u001b[0;34m.\u001b[0m\u001b[0m_reader\u001b[0m \u001b[0;34m=\u001b[0m \u001b[0mself\u001b[0m\u001b[0;34m.\u001b[0m\u001b[0m_engines\u001b[0m\u001b[0;34m[\u001b[0m\u001b[0mengine\u001b[0m\u001b[0;34m]\u001b[0m\u001b[0;34m(\u001b[0m\u001b[0mself\u001b[0m\u001b[0;34m.\u001b[0m\u001b[0m_io\u001b[0m\u001b[0;34m)\u001b[0m\u001b[0;34m\u001b[0m\u001b[0;34m\u001b[0m\u001b[0m\n\u001b[0m\u001b[1;32m    868\u001b[0m \u001b[0;34m\u001b[0m\u001b[0m\n\u001b[1;32m    869\u001b[0m     \u001b[0;32mdef\u001b[0m \u001b[0m__fspath__\u001b[0m\u001b[0;34m(\u001b[0m\u001b[0mself\u001b[0m\u001b[0;34m)\u001b[0m\u001b[0;34m:\u001b[0m\u001b[0;34m\u001b[0m\u001b[0;34m\u001b[0m\u001b[0m\n",
      "\u001b[0;32m/opt/conda/lib/python3.8/site-packages/pandas/io/excel/_xlrd.py\u001b[0m in \u001b[0;36m__init__\u001b[0;34m(self, filepath_or_buffer)\u001b[0m\n\u001b[1;32m     20\u001b[0m         \u001b[0merr_msg\u001b[0m \u001b[0;34m=\u001b[0m \u001b[0;34m\"Install xlrd >= 1.0.0 for Excel support\"\u001b[0m\u001b[0;34m\u001b[0m\u001b[0;34m\u001b[0m\u001b[0m\n\u001b[1;32m     21\u001b[0m         \u001b[0mimport_optional_dependency\u001b[0m\u001b[0;34m(\u001b[0m\u001b[0;34m\"xlrd\"\u001b[0m\u001b[0;34m,\u001b[0m \u001b[0mextra\u001b[0m\u001b[0;34m=\u001b[0m\u001b[0merr_msg\u001b[0m\u001b[0;34m)\u001b[0m\u001b[0;34m\u001b[0m\u001b[0;34m\u001b[0m\u001b[0m\n\u001b[0;32m---> 22\u001b[0;31m         \u001b[0msuper\u001b[0m\u001b[0;34m(\u001b[0m\u001b[0;34m)\u001b[0m\u001b[0;34m.\u001b[0m\u001b[0m__init__\u001b[0m\u001b[0;34m(\u001b[0m\u001b[0mfilepath_or_buffer\u001b[0m\u001b[0;34m)\u001b[0m\u001b[0;34m\u001b[0m\u001b[0;34m\u001b[0m\u001b[0m\n\u001b[0m\u001b[1;32m     23\u001b[0m \u001b[0;34m\u001b[0m\u001b[0m\n\u001b[1;32m     24\u001b[0m     \u001b[0;34m@\u001b[0m\u001b[0mproperty\u001b[0m\u001b[0;34m\u001b[0m\u001b[0;34m\u001b[0m\u001b[0m\n",
      "\u001b[0;32m/opt/conda/lib/python3.8/site-packages/pandas/io/excel/_base.py\u001b[0m in \u001b[0;36m__init__\u001b[0;34m(self, filepath_or_buffer)\u001b[0m\n\u001b[1;32m    351\u001b[0m             \u001b[0mself\u001b[0m\u001b[0;34m.\u001b[0m\u001b[0mbook\u001b[0m \u001b[0;34m=\u001b[0m \u001b[0mself\u001b[0m\u001b[0;34m.\u001b[0m\u001b[0mload_workbook\u001b[0m\u001b[0;34m(\u001b[0m\u001b[0mfilepath_or_buffer\u001b[0m\u001b[0;34m)\u001b[0m\u001b[0;34m\u001b[0m\u001b[0;34m\u001b[0m\u001b[0m\n\u001b[1;32m    352\u001b[0m         \u001b[0;32melif\u001b[0m \u001b[0misinstance\u001b[0m\u001b[0;34m(\u001b[0m\u001b[0mfilepath_or_buffer\u001b[0m\u001b[0;34m,\u001b[0m \u001b[0mstr\u001b[0m\u001b[0;34m)\u001b[0m\u001b[0;34m:\u001b[0m\u001b[0;34m\u001b[0m\u001b[0;34m\u001b[0m\u001b[0m\n\u001b[0;32m--> 353\u001b[0;31m             \u001b[0mself\u001b[0m\u001b[0;34m.\u001b[0m\u001b[0mbook\u001b[0m \u001b[0;34m=\u001b[0m \u001b[0mself\u001b[0m\u001b[0;34m.\u001b[0m\u001b[0mload_workbook\u001b[0m\u001b[0;34m(\u001b[0m\u001b[0mfilepath_or_buffer\u001b[0m\u001b[0;34m)\u001b[0m\u001b[0;34m\u001b[0m\u001b[0;34m\u001b[0m\u001b[0m\n\u001b[0m\u001b[1;32m    354\u001b[0m         \u001b[0;32melif\u001b[0m \u001b[0misinstance\u001b[0m\u001b[0;34m(\u001b[0m\u001b[0mfilepath_or_buffer\u001b[0m\u001b[0;34m,\u001b[0m \u001b[0mbytes\u001b[0m\u001b[0;34m)\u001b[0m\u001b[0;34m:\u001b[0m\u001b[0;34m\u001b[0m\u001b[0;34m\u001b[0m\u001b[0m\n\u001b[1;32m    355\u001b[0m             \u001b[0mself\u001b[0m\u001b[0;34m.\u001b[0m\u001b[0mbook\u001b[0m \u001b[0;34m=\u001b[0m \u001b[0mself\u001b[0m\u001b[0;34m.\u001b[0m\u001b[0mload_workbook\u001b[0m\u001b[0;34m(\u001b[0m\u001b[0mBytesIO\u001b[0m\u001b[0;34m(\u001b[0m\u001b[0mfilepath_or_buffer\u001b[0m\u001b[0;34m)\u001b[0m\u001b[0;34m)\u001b[0m\u001b[0;34m\u001b[0m\u001b[0;34m\u001b[0m\u001b[0m\n",
      "\u001b[0;32m/opt/conda/lib/python3.8/site-packages/pandas/io/excel/_xlrd.py\u001b[0m in \u001b[0;36mload_workbook\u001b[0;34m(self, filepath_or_buffer)\u001b[0m\n\u001b[1;32m     35\u001b[0m             \u001b[0;32mreturn\u001b[0m \u001b[0mopen_workbook\u001b[0m\u001b[0;34m(\u001b[0m\u001b[0mfile_contents\u001b[0m\u001b[0;34m=\u001b[0m\u001b[0mdata\u001b[0m\u001b[0;34m)\u001b[0m\u001b[0;34m\u001b[0m\u001b[0;34m\u001b[0m\u001b[0m\n\u001b[1;32m     36\u001b[0m         \u001b[0;32melse\u001b[0m\u001b[0;34m:\u001b[0m\u001b[0;34m\u001b[0m\u001b[0;34m\u001b[0m\u001b[0m\n\u001b[0;32m---> 37\u001b[0;31m             \u001b[0;32mreturn\u001b[0m \u001b[0mopen_workbook\u001b[0m\u001b[0;34m(\u001b[0m\u001b[0mfilepath_or_buffer\u001b[0m\u001b[0;34m)\u001b[0m\u001b[0;34m\u001b[0m\u001b[0;34m\u001b[0m\u001b[0m\n\u001b[0m\u001b[1;32m     38\u001b[0m \u001b[0;34m\u001b[0m\u001b[0m\n\u001b[1;32m     39\u001b[0m     \u001b[0;34m@\u001b[0m\u001b[0mproperty\u001b[0m\u001b[0;34m\u001b[0m\u001b[0;34m\u001b[0m\u001b[0m\n",
      "\u001b[0;32m/opt/conda/lib/python3.8/site-packages/xlrd/__init__.py\u001b[0m in \u001b[0;36mopen_workbook\u001b[0;34m(filename, logfile, verbosity, use_mmap, file_contents, encoding_override, formatting_info, on_demand, ragged_rows)\u001b[0m\n\u001b[1;32m    109\u001b[0m     \u001b[0;32melse\u001b[0m\u001b[0;34m:\u001b[0m\u001b[0;34m\u001b[0m\u001b[0;34m\u001b[0m\u001b[0m\n\u001b[1;32m    110\u001b[0m         \u001b[0mfilename\u001b[0m \u001b[0;34m=\u001b[0m \u001b[0mos\u001b[0m\u001b[0;34m.\u001b[0m\u001b[0mpath\u001b[0m\u001b[0;34m.\u001b[0m\u001b[0mexpanduser\u001b[0m\u001b[0;34m(\u001b[0m\u001b[0mfilename\u001b[0m\u001b[0;34m)\u001b[0m\u001b[0;34m\u001b[0m\u001b[0;34m\u001b[0m\u001b[0m\n\u001b[0;32m--> 111\u001b[0;31m         \u001b[0;32mwith\u001b[0m \u001b[0mopen\u001b[0m\u001b[0;34m(\u001b[0m\u001b[0mfilename\u001b[0m\u001b[0;34m,\u001b[0m \u001b[0;34m\"rb\"\u001b[0m\u001b[0;34m)\u001b[0m \u001b[0;32mas\u001b[0m \u001b[0mf\u001b[0m\u001b[0;34m:\u001b[0m\u001b[0;34m\u001b[0m\u001b[0;34m\u001b[0m\u001b[0m\n\u001b[0m\u001b[1;32m    112\u001b[0m             \u001b[0mpeek\u001b[0m \u001b[0;34m=\u001b[0m \u001b[0mf\u001b[0m\u001b[0;34m.\u001b[0m\u001b[0mread\u001b[0m\u001b[0;34m(\u001b[0m\u001b[0mpeeksz\u001b[0m\u001b[0;34m)\u001b[0m\u001b[0;34m\u001b[0m\u001b[0;34m\u001b[0m\u001b[0m\n\u001b[1;32m    113\u001b[0m     \u001b[0;32mif\u001b[0m \u001b[0mpeek\u001b[0m \u001b[0;34m==\u001b[0m \u001b[0;34mb\"PK\\x03\\x04\"\u001b[0m\u001b[0;34m:\u001b[0m \u001b[0;31m# a ZIP file\u001b[0m\u001b[0;34m\u001b[0m\u001b[0;34m\u001b[0m\u001b[0m\n",
      "\u001b[0;31mFileNotFoundError\u001b[0m: [Errno 2] No such file or directory: 'underground_data.xlsx'"
     ]
    }
   ],
   "source": [
    "df_ug=pd.read_excel(\"underground_data.xlsx\")\n",
    "df_ug_A=df_ug.query(\"Line=='A'\")\n",
    "df_ug_C=df_ug.query(\"Line=='C'\")"
   ]
  },
  {
   "cell_type": "code",
   "execution_count": null,
   "metadata": {},
   "outputs": [],
   "source": [
    "## Creating underground trace to be added to other plots\n",
    "trace1=go.Scattermapbox(\n",
    "            lat=df_ug_A.Lat,\n",
    "            lon=df_ug_A.Lon,\n",
    "            name=\"Underground Line A\",\n",
    "            text=df_ug_A.Name,\n",
    "            mode='lines+markers',\n",
    "            showlegend=False,\n",
    "            opacity=0.5,\n",
    "            marker=dict(\n",
    "                opacity=0.8, \n",
    "                size=8, \n",
    "                color=\"grey\",\n",
    "               \n",
    "               \n",
    "            \n",
    "           \n",
    "            ))\n",
    "\n",
    "\n",
    "trace2=go.Scattermapbox(\n",
    "            lat=df_ug_C.Lat,\n",
    "            lon=df_ug_C.Lon,\n",
    "            name=\"Underground Line C\",\n",
    "            text=df_ug_C.Name,\n",
    "            showlegend=False,\n",
    "            mode='lines+markers',\n",
    "            opacity=0.5,\n",
    "            marker=dict(\n",
    "                opacity=0.8, \n",
    "                size=8, \n",
    "                color=\"grey\",\n",
    "               \n",
    "               \n",
    "            \n",
    "           \n",
    "            ))\n",
    "    \n",
    "undergroung_trace=[trace1,trace2]"
   ]
  },
  {
   "cell_type": "code",
   "execution_count": null,
   "metadata": {},
   "outputs": [],
   "source": [
    "trace = go.Choroplethmapbox(\n",
    "                            geojson=price_geojson,\n",
    "                            name=\"Unit price\",\n",
    "                            locations=df_contour.Id,\n",
    "                            z=df_contour.Price,\n",
    "                            colorscale=\"jet\",  \n",
    "                            marker_line_width=0,\n",
    "\n",
    "                            marker=dict(opacity=0.5)\n",
    "                           )\n",
    "\n",
    "\n",
    "\n",
    "layout = go.Layout(\n",
    "    title=\"Warsaw RE prices heatmap with Underground stations  [PLN/m2]\",  \n",
    "\n",
    "   \n",
    "    \n",
    "    \n",
    "    height = 800,\n",
    "    # top, bottom, left and right margins\n",
    "    margin = dict(t = 80, b = 0, l = 0, r = 0),\n",
    "    font = dict(color = 'dark grey', size = 18),\n",
    " \n",
    "    mapbox = dict(\n",
    "       \n",
    "\n",
    "        center = dict(\n",
    "            lat = center_coors[0],\n",
    "            lon = center_coors[1]\n",
    "        ),\n",
    "        # default level of zoom\n",
    "        zoom = 11,\n",
    "        # default map style\n",
    "        style = \"carto-positron\"\n",
    "    )\n",
    "\n",
    ")\n",
    "\n",
    "\n",
    "figure=dict(\n",
    "    data=[trace]+undergroung_trace,\n",
    "    layout=layout,\n",
    "  \n",
    "    )\n",
    "\n",
    "iplot(figure)"
   ]
  },
  {
   "cell_type": "markdown",
   "metadata": {},
   "source": [
    "After adding Underground lines to the price heatmap, we can see that the slower decrease of prices in relation to distance to center seen in Zoliborz, Wola, Targowek and Upper Mokotow can be be related to underground proximity. "
   ]
  },
  {
   "cell_type": "markdown",
   "metadata": {},
   "source": [
    "# Scraping geo data using Google Api"
   ]
  },
  {
   "cell_type": "markdown",
   "metadata": {},
   "source": [
    "One of key variables affecting real estate prices is the time it takes to get to city central point. This data for using public transport and car can be extracted from googlemaps. \n",
    "\n",
    "I have chosen Swietokrzyska Underground station as the Central point as it is the junction between 2 underground lines and is also in the center of gravity of Warsaw Real Estate Prices. \n"
   ]
  },
  {
   "cell_type": "code",
   "execution_count": null,
   "metadata": {},
   "outputs": [],
   "source": [
    "# You will need your own key to extract data yourself\n",
    "api_key = open(\"Api_key.txt\", \"r\").read()"
   ]
  },
  {
   "cell_type": "code",
   "execution_count": null,
   "metadata": {},
   "outputs": [],
   "source": [
    "import googlemaps\n",
    "from datetime import datetime\n",
    "\n",
    "gmaps = googlemaps.Client(key=api_key)\n"
   ]
  },
  {
   "cell_type": "markdown",
   "metadata": {},
   "source": [
    "## How long would it take to commute from each tile to central point of Warsaw"
   ]
  },
  {
   "cell_type": "code",
   "execution_count": null,
   "metadata": {},
   "outputs": [],
   "source": [
    "# Metro Swietokrzyska coordinates\n",
    "end_coors=52.235176, 21.008393"
   ]
  },
  {
   "cell_type": "code",
   "execution_count": null,
   "metadata": {},
   "outputs": [],
   "source": [
    "def get_time_to_point(start_coors, end_coors, time, journey_mode):\n",
    "    directions_result = gmaps.directions(start_coors,\n",
    "                                     end_coors,\n",
    "                                     mode=journey_mode,\n",
    "                                     departure_time=time)\n",
    "    try:\n",
    "        distance=directions_result[0][\"legs\"][0][\"distance\"][\"value\"]/1000\n",
    "        time=directions_result[0][\"legs\"][0][\"duration\"][\"value\"]/60\n",
    "    except:\n",
    "        distance=np.NaN\n",
    "        time=np.NaN\n",
    "    return(time, distance)"
   ]
  },
  {
   "cell_type": "code",
   "execution_count": null,
   "metadata": {},
   "outputs": [],
   "source": [
    "def append_google_directions(df, endpoint, start_time, journey_mode, name):\n",
    "    #Journey mode in [\"driving\", \"walking\", \"bicycling\", \"transit\"]\n",
    "    time_list=[]\n",
    "    dist_list=[]\n",
    "    for i in range(0,df.shape[0]):\n",
    "        start_coors=df.lat_mod[i],df.lon_mod[i]\n",
    "        time, distance = get_time_to_point(start_coors, end_coors, start_time, journey_mode)\n",
    "        time_list.append(time)\n",
    "        dist_list.append(distance)\n",
    "    dist_name=\"distance_\"+name\n",
    "    time_name=\"time_\"+name\n",
    "    df[dist_name]=np.asarray(dist_list)\n",
    "    df[time_name]=np.asarray(time_list)\n",
    "    return(df)"
   ]
  },
  {
   "cell_type": "code",
   "execution_count": null,
   "metadata": {},
   "outputs": [],
   "source": [
    "end_coors=52.235176, 21.008393\n"
   ]
  },
  {
   "cell_type": "code",
   "execution_count": null,
   "metadata": {},
   "outputs": [],
   "source": [
    "df_map.head()"
   ]
  },
  {
   "cell_type": "code",
   "execution_count": null,
   "metadata": {},
   "outputs": [],
   "source": [
    "start_time=datetime(2020,6,1,8,0)\n",
    "df_googlemaps=append_google_directions(df_map,end_coors,start_time,\"transit\",\"transit_8AM\")\n",
    "df_googlemaps=append_google_directions(df_googlemaps,end_coors,start_time,\"driving\",\"driving_8AM\")\n"
   ]
  },
  {
   "cell_type": "code",
   "execution_count": null,
   "metadata": {},
   "outputs": [],
   "source": [
    "df_map.head()"
   ]
  },
  {
   "cell_type": "code",
   "execution_count": null,
   "metadata": {},
   "outputs": [],
   "source": [
    "def append_google_directions_return(df, start_point, start_time, journey_mode, name):\n",
    "    #Journey mode in [\"driving\", \"walking\", \"bicycling\", \"transit\"]\n",
    "    time_list=[]\n",
    "    dist_list=[]\n",
    "    for i in range(0,df.shape[0]):\n",
    "        end_coors=df.lat_mod[i],df.lon_mod[i]\n",
    "        time, distance = get_time_to_point(start_point, end_coors, start_time, journey_mode)\n",
    "        time_list.append(time)\n",
    "        dist_list.append(distance)\n",
    "    dist_name=\"distance_\"+name\n",
    "    time_name=\"time_\"+name\n",
    "    df[dist_name]=np.asarray(dist_list)\n",
    "    df[time_name]=np.asarray(time_list)\n",
    "    return(df)"
   ]
  },
  {
   "cell_type": "code",
   "execution_count": null,
   "metadata": {},
   "outputs": [],
   "source": [
    "start_time=datetime(2020,6,5,17,0)\n",
    "start_coors=52.235176, 21.008393\n",
    "df_googlemaps=append_google_directions_return(df_googlemaps,start_coors,start_time,\"transit\",\"return_transit_5PM\")"
   ]
  },
  {
   "cell_type": "code",
   "execution_count": null,
   "metadata": {},
   "outputs": [],
   "source": [
    "df_googlemaps=append_google_directions_return(df_googlemaps,start_coors,start_time,\"driving\",\"return_driving_5PM\")"
   ]
  },
  {
   "cell_type": "code",
   "execution_count": null,
   "metadata": {},
   "outputs": [],
   "source": [
    "df_googlemaps.head()"
   ]
  },
  {
   "cell_type": "code",
   "execution_count": null,
   "metadata": {},
   "outputs": [],
   "source": [
    "#Saving extracted data to local drive - commented out after initial save\n",
    "#df_googlemaps.to_excel(\"google_directions_data.xlsx\")"
   ]
  },
  {
   "cell_type": "code",
   "execution_count": null,
   "metadata": {},
   "outputs": [],
   "source": [
    "df_googlemaps=pd.read_excel(r\"https://raw.githubusercontent.com/Jan-Majewski/Project_Portfolio/master/03_Real_Estate_pricing_in_Warsaw/google_directions_data.xlsx\")"
   ]
  },
  {
   "cell_type": "code",
   "execution_count": null,
   "metadata": {},
   "outputs": [],
   "source": [
    "df_googlemaps=df_googlemaps.ffill()"
   ]
  },
  {
   "cell_type": "code",
   "execution_count": null,
   "metadata": {},
   "outputs": [],
   "source": [
    "df_map.unit_price.max()"
   ]
  },
  {
   "cell_type": "code",
   "execution_count": null,
   "metadata": {},
   "outputs": [],
   "source": [
    "df_googlemaps[\"price_decrease_from_20k\"]=20000-df_googlemaps[\"unit_price\"]"
   ]
  },
  {
   "cell_type": "code",
   "execution_count": null,
   "metadata": {},
   "outputs": [],
   "source": [
    "df_googlemaps[\"price_decrease_per_10min\"]=np.where(df_googlemaps.time_transit_8AM<10,df_googlemaps.price_decrease_from_20k,df_googlemaps.price_decrease_from_20k/df_googlemaps.time_transit_8AM*10)"
   ]
  },
  {
   "cell_type": "markdown",
   "metadata": {},
   "source": [
    "## Mapping commute time"
   ]
  },
  {
   "cell_type": "code",
   "execution_count": null,
   "metadata": {},
   "outputs": [],
   "source": [
    "def create_geojson(x,y,z,div_space,z_min):\n",
    "    xi = linspace(x.min(),x.max(),100);\n",
    "    yi = linspace(y.min(),y.max(),100);\n",
    "    zi = griddata((x, y), z, (xi[None,:], yi[:,None]), method=\"linear\")\n",
    "\n",
    "    cs = plt.contourf(xi,yi,zi,range(z_min,int(np.nanmax(zi))+div_space,div_space),cmap=plt.cm.jet)\n",
    "    \n",
    "\n",
    "    geojson = geojsoncontour.contourf_to_geojson(\n",
    "    contourf=cs,\n",
    "    ndigits=3,\n",
    "   \n",
    "    )\n",
    "\n",
    "    json_dict=eval(geojson)\n",
    "    \n",
    "    arr_temp=np.ones([len(json_dict[\"features\"]),2])\n",
    "    \n",
    "    for i in range(0, len(json_dict[\"features\"])):\n",
    "        json_dict[\"features\"][i][\"id\"]=i\n",
    "\n",
    "    \n",
    "        arr_temp[i,0]=i\n",
    "        arr_temp[i,1]=float(json_dict[\"features\"][i][\"properties\"][\"title\"])+div_space\n",
    "    \n",
    "    df_contour=pd.DataFrame(arr_temp, columns=[\"Id\",\"value\"])\n",
    "   \n",
    "    \n",
    "    return(json_dict, df_contour)\n",
    "\n"
   ]
  },
  {
   "cell_type": "code",
   "execution_count": null,
   "metadata": {},
   "outputs": [],
   "source": [
    "commute_geojson, df_commute=create_geojson(df_googlemaps.lon_mod,df_googlemaps.lat_mod,df_googlemaps.time_transit_8AM,5,5)"
   ]
  },
  {
   "cell_type": "code",
   "execution_count": null,
   "metadata": {},
   "outputs": [],
   "source": [
    "\n",
    "trace = go.Choroplethmapbox(\n",
    "                            geojson=commute_geojson,\n",
    "                            locations=df_commute.Id,\n",
    "                            z=df_commute.value,\n",
    "                            name=\"Morning commute time\",\n",
    "                            colorscale=\"jet\",  \n",
    "                            zauto=False,\n",
    "                            zmax=60,\n",
    "                            marker_line_width=0,\n",
    "\n",
    "                            marker=dict(opacity=0.5),\n",
    "                    \n",
    "                           )\n",
    "layout = go.Layout(\n",
    "    title=\"Public transport commute time to center Monday 8AM [min]\",  \n",
    "\n",
    "   \n",
    "    \n",
    "    \n",
    "    height = 800,\n",
    "    # top, bottom, left and right margins\n",
    "    margin = dict(t = 80, b = 0, l = 0, r = 0),\n",
    "    font = dict(color = 'dark grey', size = 18),\n",
    " \n",
    "    mapbox = dict(\n",
    "       \n",
    "\n",
    "        center = dict(\n",
    "            lat = center_coors[0],\n",
    "            lon = center_coors[1]\n",
    "        ),\n",
    "        # default level of zoom\n",
    "        zoom = 11,\n",
    "        # default map style\n",
    "        style = \"carto-positron\"\n",
    "    )\n",
    "\n",
    ")\n",
    "\n",
    "figure=dict(\n",
    "    data=[trace]+undergroung_trace,\n",
    "    layout=layout,\n",
    "\n",
    "  \n",
    "    )\n",
    "\n",
    "iplot(figure)"
   ]
  },
  {
   "cell_type": "markdown",
   "metadata": {},
   "source": [
    "## Looking for best balance between price and commute time"
   ]
  },
  {
   "cell_type": "code",
   "execution_count": null,
   "metadata": {},
   "outputs": [],
   "source": [
    "commute_price_geojson, df_commute_price=create_geojson(df_googlemaps.lon_mod,df_googlemaps.lat_mod,df_googlemaps.price_decrease_per_10min,500,1000)"
   ]
  },
  {
   "cell_type": "code",
   "execution_count": null,
   "metadata": {},
   "outputs": [],
   "source": [
    "\n",
    "trace = go.Choroplethmapbox(\n",
    "                            geojson=commute_price_geojson,\n",
    "                            locations=df_commute_price.Id,\n",
    "                            z=df_commute_price.value,\n",
    "                            name=\"Commute time vs price\",\n",
    "                            colorscale=\"jet\",  \n",
    "                           # zauto=False,\n",
    "                           # zmax=60,\n",
    "                            marker_line_width=0,\n",
    "\n",
    "                            marker=dict(opacity=0.5),\n",
    "                    \n",
    "                           )\n",
    "                           \n",
    "layout = go.Layout(\n",
    "    title=\"Price decrease from 20k/m2 per additional 10 min commute to center\",  \n",
    "\n",
    "   \n",
    "    \n",
    "    \n",
    "    height = 800,\n",
    "    # top, bottom, left and right margins\n",
    "    margin = dict(t = 80, b = 0, l = 0, r = 0),\n",
    "    font = dict(color = 'dark grey', size = 18),\n",
    " \n",
    "    mapbox = dict(\n",
    "       \n",
    "\n",
    "        center = dict(\n",
    "            lat = center_coors[0],\n",
    "            lon = center_coors[1]\n",
    "        ),\n",
    "        # default level of zoom\n",
    "        zoom = 11,\n",
    "        # default map style\n",
    "        style = \"carto-positron\"\n",
    "    )\n",
    "\n",
    ")\n",
    "\n",
    "figure=dict(\n",
    "    data=[trace]+undergroung_trace,\n",
    "    layout=layout)\n",
    "\n",
    "  \n",
    "iplot(figure)\n"
   ]
  },
  {
   "cell_type": "markdown",
   "metadata": {},
   "source": [
    "Let's see if we can find the best spots for balancing prices and commute time to center. I have chosen price drop per 10 min commute time as the KPI used to measure it. As maximum prices in the strict center oscilate around 20k we will see how much we can save from that, while also not making our commute too long. \n",
    "\n",
    "To avoid commute times below 10 mins driving this KPI values to be too high, the lowest denominator we use for calculation is 10 mins, even if the commute time is shorter. \n",
    "\n",
    "As an example, if we have an grid where average price is 12k per m2 and commute time to center takes 20 mins, that would mean that every 10 mins of commute time save us 4k in comparison to maximum price in strict center. "
   ]
  },
  {
   "cell_type": "markdown",
   "metadata": {},
   "source": [
    "It is easy to observe the relation between price drop per 10 mins of commute and underground stations, which is related to underground outperforming other transport times in terms of speed.\n",
    "\n",
    "This is especially visible near the newly opened undergdound stations of Line C in Wola,Praga and Targowek, where price decrease per 10 min commute time can reach over 5k, which is related to short commute times (10-15 min) and prices, which are much lower than strict center. "
   ]
  },
  {
   "cell_type": "markdown",
   "metadata": {},
   "source": [
    "# Preparing data for models in Part 3"
   ]
  },
  {
   "cell_type": "markdown",
   "metadata": {},
   "source": [
    "Combining property level data from Part 1 with googlemaps data from Part 2 will be fed to models in Part 3 to build a price estimator for benchmarking and finding best deals. "
   ]
  },
  {
   "cell_type": "code",
   "execution_count": null,
   "metadata": {},
   "outputs": [],
   "source": [
    "df_googlemaps.drop(columns=[\"district\"],inplace=True)\n",
    "df_googlemaps.rename(columns={\"unit_price\":\"grid_price\"},inplace=True)"
   ]
  },
  {
   "cell_type": "code",
   "execution_count": null,
   "metadata": {},
   "outputs": [],
   "source": [
    "df_combined=pd.merge(df,df_googlemaps,on=[\"lat_mod\",\"lon_mod\"])"
   ]
  },
  {
   "cell_type": "code",
   "execution_count": null,
   "metadata": {},
   "outputs": [],
   "source": [
    "df_combined.shape"
   ]
  },
  {
   "cell_type": "code",
   "execution_count": null,
   "metadata": {},
   "outputs": [],
   "source": [
    "df_combined.columns"
   ]
  },
  {
   "cell_type": "code",
   "execution_count": null,
   "metadata": {},
   "outputs": [],
   "source": [
    "drop_columns=['Unnamed: 0']"
   ]
  },
  {
   "cell_type": "code",
   "execution_count": null,
   "metadata": {},
   "outputs": [],
   "source": [
    "df_combined.drop(columns=drop_columns,inplace=True)"
   ]
  },
  {
   "cell_type": "code",
   "execution_count": null,
   "metadata": {},
   "outputs": [],
   "source": [
    "df_combined.to_excel(\"RE_models_input.xlsx\",index=False)"
   ]
  },
  {
   "cell_type": "code",
   "execution_count": null,
   "metadata": {},
   "outputs": [],
   "source": [
    "df_combined.columns"
   ]
  },
  {
   "cell_type": "code",
   "execution_count": null,
   "metadata": {},
   "outputs": [],
   "source": []
  },
  {
   "cell_type": "code",
   "execution_count": null,
   "metadata": {},
   "outputs": [],
   "source": []
  }
 ],
 "metadata": {
  "kernelspec": {
   "display_name": "Python 3",
   "language": "python",
   "name": "python3"
  },
  "language_info": {
   "codemirror_mode": {
    "name": "ipython",
    "version": 3
   },
   "file_extension": ".py",
   "mimetype": "text/x-python",
   "name": "python",
   "nbconvert_exporter": "python",
   "pygments_lexer": "ipython3",
   "version": "3.8.6"
  },
  "toc": {
   "base_numbering": 1,
   "nav_menu": {},
   "number_sections": true,
   "sideBar": true,
   "skip_h1_title": false,
   "title_cell": "Table of Contents",
   "title_sidebar": "Contents",
   "toc_cell": true,
   "toc_position": {
    "height": "calc(100% - 180px)",
    "left": "10px",
    "top": "150px",
    "width": "218px"
   },
   "toc_section_display": true,
   "toc_window_display": true
  }
 },
 "nbformat": 4,
 "nbformat_minor": 2
}
